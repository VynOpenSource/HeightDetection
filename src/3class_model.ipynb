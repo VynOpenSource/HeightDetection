{
  "nbformat": 4,
  "nbformat_minor": 0,
  "metadata": {
    "colab": {
      "name": "focalLoss2.ipynb",
      "provenance": []
    },
    "kernelspec": {
      "name": "python3",
      "display_name": "Python 3"
    },
    "accelerator": "GPU"
  },
  "cells": [
    {
      "cell_type": "code",
      "metadata": {
        "id": "Ebj9Uatf_oKD"
      },
      "source": [
        "import numpy as np\n",
        "import tensorflow as tf\n",
        "import math\n",
        "import h5py\n",
        "import matplotlib.pyplot as plt\n",
        "from keras import layers\n",
        "from keras.layers import Input, Add, Dense, Activation, ZeroPadding2D, BatchNormalization, Flatten, Conv2D, AveragePooling2D, MaxPooling2D, GlobalMaxPooling2D\n",
        "from keras.models import Model, load_model\n",
        "from keras.preprocessing import image\n",
        "from keras.utils import layer_utils\n",
        "from keras.utils.data_utils import get_file\n",
        "from keras.applications.imagenet_utils import preprocess_input\n",
        "import pydot\n",
        "from IPython.display import SVG\n",
        "from keras.utils.vis_utils import model_to_dot\n",
        "from keras.utils import plot_model\n",
        "from keras.regularizers import l2\n",
        "from keras.initializers import glorot_uniform\n",
        "import scipy.misc\n",
        "from matplotlib.pyplot import imshow\n",
        "%matplotlib inline\n",
        "from tensorflow.keras.applications import ResNet50\n",
        "from tensorflow.keras.models import Sequential\n",
        "from tensorflow.keras.layers import Dense\n",
        "from tensorflow.keras.preprocessing.image import ImageDataGenerator\n",
        "import tensorflow_addons as tfa\n",
        "from keras.callbacks import ReduceLROnPlateau\n",
        "import keras.backend as K\n",
        "K.set_image_data_format('channels_last')\n",
        "K.set_learning_phase(1)\n",
        "K.clear_session()\n"
      ],
      "execution_count": 21,
      "outputs": []
    },
    {
      "cell_type": "code",
      "metadata": {
        "id": "oPNzVZVWxVzf"
      },
      "source": [
        "\n",
        "def categorical_focal_loss(num_classes=3, gamma=2., alpha=.25, smooth_alpha=0.05):\n",
        "    \"\"\"\n",
        "    Softmax version of focal loss.\n",
        "           m\n",
        "      FL = ∑  -alpha * (1 - p_o,c)^gamma * y_o,c * log(p_o,c)\n",
        "          c=1\n",
        "      where m = number of classes, c = class and o = observation\n",
        "    Parameters:\n",
        "      alpha -- the same as weighing factor in balanced cross entropy\n",
        "      gamma -- focusing parameter for modulating factor (1-p)\n",
        "    Default value:\n",
        "      gamma -- 2.0 as mentioned in the paper\n",
        "      alpha -- 0.25 as mentioned in the paper\n",
        "    References:\n",
        "        Official paper: https://arxiv.org/pdf/1708.02002.pdf\n",
        "        https://www.tensorflow.org/api_docs/python/tf/keras/backend/categorical_crossentropy\n",
        "    Usage:\n",
        "     model.compile(loss=[categorical_focal_loss(alpha=.25, gamma=2)], metrics=[\"accuracy\"], optimizer=adam)\n",
        "    \"\"\"\n",
        "    def categorical_focal_loss_fixed(y_true, y_pred):\n",
        "        \"\"\"\n",
        "        :param y_true: A tensor of the same shape as `y_pred`\n",
        "        :param y_pred: A tensor resulting from a softmax\n",
        "        :return: Output tensor.\n",
        "        \"\"\"\n",
        "        if smooth_alpha > 0:\n",
        "            y_true = y_true * (1 - smooth_alpha) + smooth_alpha / num_classes\n",
        "\n",
        "        # Scale predictions so that the class probas of each sample sum to 1\n",
        "        y_pred /= K.sum(y_pred, axis=-1, keepdims=True)\n",
        "\n",
        "        # Clip the prediction value to prevent NaN's and Inf's\n",
        "        epsilon = K.epsilon()\n",
        "        y_pred = K.clip(y_pred, epsilon, 1. - epsilon)\n",
        "\n",
        "        # Calculate Cross Entropy\n",
        "        cross_entropy = -y_true * K.log(y_pred)\n",
        "\n",
        "        # Calculate Focal Loss\n",
        "        loss = alpha * K.pow(1 - y_pred, gamma) * cross_entropy\n",
        "\n",
        "        # Sum the losses in mini_batch\n",
        "        return K.sum(loss, axis=1)\n",
        "\n",
        "    return categorical_focal_loss_fixed"
      ],
      "execution_count": 2,
      "outputs": []
    },
    {
      "cell_type": "code",
      "metadata": {
        "id": "Y5cPH1Vx_toQ"
      },
      "source": [
        "import zipfile\n",
        "zip_ref = zipfile.ZipFile(\"/content/drive/My Drive/open_src_data/train/neg2.zip\", 'r')\n",
        "zip_ref.extractall(\"/content/train\")\n",
        "zip_ref = zipfile.ZipFile(\"/content/drive/My Drive/open_src_data/train/pos2.zip\", 'r')\n",
        "zip_ref.extractall(\"/content/train\")\n",
        "zip_ref = zipfile.ZipFile(\"/content/drive/My Drive/open_src_data/train/train_hard.zip\", 'r')\n",
        "zip_ref.extractall(\"/content/train\")"
      ],
      "execution_count": 22,
      "outputs": []
    },
    {
      "cell_type": "code",
      "metadata": {
        "id": "7a5l86jJ_1z8"
      },
      "source": [
        "import zipfile\n",
        "zip_ref = zipfile.ZipFile(\"/content/drive/My Drive/open_src_data/cross_valid/cross_valid_neg (2).zip\", 'r')\n",
        "zip_ref.extractall(\"/content/cross_val\")\n",
        "zip_ref = zipfile.ZipFile(\"/content/drive/My Drive/open_src_data/cross_valid/cross_valid_positive (2).zip\", 'r')\n",
        "zip_ref.extractall(\"/content/cross_val\")\n",
        "zip_ref = zipfile.ZipFile(\"/content/drive/My Drive/open_src_data/cross_valid/hard_cross_val.zip\", 'r')\n",
        "zip_ref.extractall(\"/content/cross_val\")\n",
        "zip_ref.close()"
      ],
      "execution_count": 23,
      "outputs": []
    },
    {
      "cell_type": "code",
      "metadata": {
        "id": "v1OwOkvxAB2P"
      },
      "source": [
        "#from keras.applications.vgg16 import VGG16\n",
        "base_model=ResNet50(include_top = False, pooling = \"avg\")\n",
        "from keras.applications.resnet import preprocess_input\n",
        "model = Sequential()\n",
        "model.add(base_model)\n",
        "\n",
        "model.add(layers.Flatten())\n",
        "model.add(layers.Dropout(0.5))\n",
        "model.add(layers.Dense(32, activation='relu'))\n",
        "model.add(layers.Dropout(0.5))\n",
        "model.add(layers.Dense(10, activation='relu',))\n",
        "model.add(layers.Dense(3, activation='softmax'))\n",
        "#model.layers[0].trainable = False\n"
      ],
      "execution_count": 24,
      "outputs": []
    },
    {
      "cell_type": "code",
      "metadata": {
        "id": "SCKwkC6OAoJl"
      },
      "source": [
        "for layer in base_model.layers:\n",
        "   layer.trainable = False\n"
      ],
      "execution_count": 25,
      "outputs": []
    },
    {
      "cell_type": "code",
      "metadata": {
        "id": "miZsL9q3BQzK"
      },
      "source": [
        "def focal_loss(y_true, y_pred):\n",
        "    gamma = 2.0\n",
        "    alpha = 0.25\n",
        "    pt_1 = tf.where(tf.equal(y_true, 1), y_pred, tf.ones_like(y_pred))\n",
        "    pt_0 = tf.where(tf.equal(y_true, 0), y_pred, tf.zeros_like(y_pred))\n",
        "    return -K.sum(alpha * K.pow(1. - pt_1, gamma) * K.log(pt_1))-K.sum((1-alpha) * K.pow( pt_0, gamma) * K.log(1. - pt_0))\n"
      ],
      "execution_count": 26,
      "outputs": []
    },
    {
      "cell_type": "code",
      "metadata": {
        "id": "OpSLAzOyA1JO"
      },
      "source": [
        "\n",
        "\n",
        "model.compile(optimizer='RMSprop', loss=[focal_loss], metrics=['accuracy'])"
      ],
      "execution_count": 34,
      "outputs": []
    },
    {
      "cell_type": "code",
      "metadata": {
        "id": "7gx1kX8pA31t"
      },
      "source": [
        "img_width, img_height = 400,400\n",
        "\n",
        "train_data_dir = '/content/train'\n",
        "validation_data_dir = '/cross_val'\n",
        "nb_train_samples = 1282\n",
        "nb_validation_samples = 503\n",
        "epochs = 12\n",
        "batch_size = 16\n",
        "if K.image_data_format() == 'channels_first':\n",
        "    input_shape = (3, img_width, img_height)\n",
        "else:\n",
        "    input_shape = (img_width, img_height, 3)"
      ],
      "execution_count": 28,
      "outputs": []
    },
    {
      "cell_type": "code",
      "metadata": {
        "id": "A3jN7zFnBPFl"
      },
      "source": [
        "train_datagen=ImageDataGenerator(\n",
        "\t\tpreprocessing_function=preprocess_input,\n",
        "\t\trotation_range=20,\n",
        "\t\tzoom_range=0.15,\n",
        "    channel_shift_range=150.0,\n",
        "    brightness_range=(0.3, 0.9),\n",
        "\t\twidth_shift_range=0.2,\n",
        "\t\theight_shift_range=0.2,\n",
        "\t\tshear_range=0.15,\n",
        "\t\thorizontal_flip=True,\n",
        "\t\tfill_mode=\"nearest\")\n",
        "#"
      ],
      "execution_count": 29,
      "outputs": []
    },
    {
      "cell_type": "code",
      "metadata": {
        "id": "YNCo-22gBR2J",
        "colab": {
          "base_uri": "https://localhost:8080/"
        },
        "outputId": "eb3cbdc8-f5ae-4df9-935a-5404ac923697"
      },
      "source": [
        "train_generator = train_datagen.flow_from_directory(\n",
        "    \"/content/train\",\n",
        "    target_size=(img_width, img_height),\n",
        "    batch_size=batch_size,\n",
        "    interpolation=\"bicubic\",\n",
        "    class_mode='categorical')"
      ],
      "execution_count": 30,
      "outputs": [
        {
          "output_type": "stream",
          "text": [
            "Found 2228 images belonging to 3 classes.\n"
          ],
          "name": "stdout"
        }
      ]
    },
    {
      "cell_type": "code",
      "metadata": {
        "id": "gH1mgDZ9BUDV",
        "colab": {
          "base_uri": "https://localhost:8080/"
        },
        "outputId": "a1ea88da-3aa9-4fd9-ac74-46c423128de9"
      },
      "source": [
        "#\n",
        "test_datagen = ImageDataGenerator(preprocessing_function=preprocess_input)\n",
        "valid_generator = test_datagen.flow_from_directory(\n",
        "    '/content/cross_val',\n",
        "    target_size=(img_width, img_height),\n",
        "    interpolation=\"bicubic\",\n",
        "    batch_size=batch_size,\n",
        "    class_mode='categorical')"
      ],
      "execution_count": 31,
      "outputs": [
        {
          "output_type": "stream",
          "text": [
            "Found 409 images belonging to 3 classes.\n"
          ],
          "name": "stdout"
        }
      ]
    },
    {
      "cell_type": "code",
      "metadata": {
        "id": "7DQXHyk8BW-8",
        "colab": {
          "base_uri": "https://localhost:8080/"
        },
        "outputId": "8fb5e7b0-8ad3-4b97-b73b-187e69d78807"
      },
      "source": [
        "\n",
        "#reduce_lr = ReduceLROnPlateau(monitor='val_accuracy', factor=0.2,\n",
        "                         #     patience=2, min_lr=0.00001)\n",
        "STEP_SIZE_TRAIN=train_generator.n//train_generator.batch_size\n",
        "STEP_SIZE_VALID=valid_generator.n//valid_generator.batch_size\n",
        "history=model.fit_generator(generator=train_generator,\n",
        "                    steps_per_epoch=STEP_SIZE_TRAIN,\n",
        "                    validation_data=valid_generator,\n",
        "                    validation_steps=STEP_SIZE_VALID,\n",
        "                    epochs=7\n",
        ")"
      ],
      "execution_count": 35,
      "outputs": [
        {
          "output_type": "stream",
          "text": [
            "Epoch 1/7\n",
            "139/139 [==============================] - 162s 1s/step - loss: 3.0495 - accuracy: 0.5556 - val_loss: 2.1085 - val_accuracy: 0.7450\n",
            "Epoch 2/7\n",
            "139/139 [==============================] - 163s 1s/step - loss: 2.3755 - accuracy: 0.6808 - val_loss: 2.1873 - val_accuracy: 0.7200\n",
            "Epoch 3/7\n",
            "139/139 [==============================] - 162s 1s/step - loss: 2.1415 - accuracy: 0.7003 - val_loss: 2.0169 - val_accuracy: 0.7525\n",
            "Epoch 4/7\n",
            "139/139 [==============================] - 163s 1s/step - loss: 2.1795 - accuracy: 0.7021 - val_loss: 1.9865 - val_accuracy: 0.7450\n",
            "Epoch 5/7\n",
            "139/139 [==============================] - 164s 1s/step - loss: 2.0867 - accuracy: 0.7251 - val_loss: 2.0113 - val_accuracy: 0.7425\n",
            "Epoch 6/7\n",
            "139/139 [==============================] - 164s 1s/step - loss: 2.0133 - accuracy: 0.7604 - val_loss: 1.9192 - val_accuracy: 0.7575\n",
            "Epoch 7/7\n",
            "139/139 [==============================] - 166s 1s/step - loss: 1.9896 - accuracy: 0.7577 - val_loss: 1.9011 - val_accuracy: 0.7625\n"
          ],
          "name": "stdout"
        }
      ]
    },
    {
      "cell_type": "code",
      "metadata": {
        "id": "HVih1t2dOzWY"
      },
      "source": [
        "model.save(\"mymodel3_r.h5\")\n",
        "!mv \"/content/mymodel3_r.h5\" \"/content/drive/My Drive/open_src_data/cross_valid/mymodel3_r_temp_3class.h5\""
      ],
      "execution_count": 36,
      "outputs": []
    },
    {
      "cell_type": "code",
      "metadata": {
        "id": "ToXrNwHSO58S"
      },
      "source": [
        "for layer in base_model.layers[:165]:\n",
        "  layer.trainable = False\n",
        "for layer in base_model.layers[165:]:\n",
        "  layer.trainable= True"
      ],
      "execution_count": 37,
      "outputs": []
    },
    {
      "cell_type": "code",
      "metadata": {
        "id": "Hq2RNDawPQqM"
      },
      "source": [
        "\n",
        "\n",
        "model.compile(optimizer='adam', loss=[focal_loss], metrics=['accuracy'])"
      ],
      "execution_count": 38,
      "outputs": []
    },
    {
      "cell_type": "code",
      "metadata": {
        "id": "mif_hfErPWkx",
        "colab": {
          "base_uri": "https://localhost:8080/"
        },
        "outputId": "9f5e97a1-2c8f-4a59-8d0e-53eaaae18686"
      },
      "source": [
        "history=model.fit_generator(generator=train_generator,\n",
        "                    steps_per_epoch=STEP_SIZE_TRAIN,\n",
        "                    validation_data=valid_generator,\n",
        "                    validation_steps=STEP_SIZE_VALID,\n",
        "                    epochs=15\n",
        ")"
      ],
      "execution_count": 40,
      "outputs": [
        {
          "output_type": "stream",
          "text": [
            "Epoch 1/10\n",
            "139/139 [==============================] - 171s 1s/step - loss: 1.4615 - accuracy: 0.8255 - val_loss: 2.5421 - val_accuracy: 0.6900\n",
            "Epoch 2/10\n",
            "139/139 [==============================] - 169s 1s/step - loss: 1.3485 - accuracy: 0.8228 - val_loss: 2.1939 - val_accuracy: 0.7750\n",
            "Epoch 3/10\n",
            "139/139 [==============================] - 167s 1s/step - loss: 1.4712 - accuracy: 0.8210 - val_loss: 2.1214 - val_accuracy: 0.7500\n",
            "Epoch 4/10\n",
            "139/139 [==============================] - 166s 1s/step - loss: 1.2942 - accuracy: 0.8413 - val_loss: 1.8789 - val_accuracy: 0.6950\n",
            "Epoch 5/10\n",
            "139/139 [==============================] - 166s 1s/step - loss: 1.3637 - accuracy: 0.8255 - val_loss: 1.9606 - val_accuracy: 0.7250\n",
            "Epoch 6/10\n",
            "139/139 [==============================] - 168s 1s/step - loss: 1.2705 - accuracy: 0.8327 - val_loss: 2.1099 - val_accuracy: 0.6850\n",
            "Epoch 7/10\n",
            "139/139 [==============================] - 159s 1s/step - loss: 1.3084 - accuracy: 0.8291 - val_loss: 2.0088 - val_accuracy: 0.7650\n",
            "Epoch 8/10\n",
            "139/139 [==============================] - 154s 1s/step - loss: 1.3379 - accuracy: 0.8305 - val_loss: 1.9364 - val_accuracy: 0.7225\n",
            "Epoch 9/10\n",
            "139/139 [==============================] - 161s 1s/step - loss: 1.2618 - accuracy: 0.8354 - val_loss: 2.6368 - val_accuracy: 0.7225\n",
            "Epoch 10/10\n",
            "139/139 [==============================] - 178s 1s/step - loss: 1.1912 - accuracy: 0.8382 - val_loss: 2.0437 - val_accuracy: 0.7200\n"
          ],
          "name": "stdout"
        }
      ]
    },
    {
      "cell_type": "code",
      "metadata": {
        "id": "lo8GnWB7XMC0"
      },
      "source": [
        "model.save_weights(\"my_weights_resnet50_f_3class.h5\")\n",
        "!mv \"/content/my_weights_resnet50_f_3class.h5\" \"/content/drive/My Drive/open_src_data/cross_valid/my_weights_resnet50_f_3class.h5\""
      ],
      "execution_count": 41,
      "outputs": []
    },
    {
      "cell_type": "code",
      "metadata": {
        "id": "sqBYrgHGXRUj"
      },
      "source": [
        "model.save(\"mymodel3_r_f_3class.h5\")\n",
        "!mv \"/content/mymodel3_r_f_3class.h5\" \"/content/drive/My Drive/open_src_data/cross_valid/mymodel3_r_f_3class.h5\""
      ],
      "execution_count": 42,
      "outputs": []
    },
    {
      "cell_type": "code",
      "metadata": {
        "id": "RzK9cBvJYpu0",
        "colab": {
          "base_uri": "https://localhost:8080/"
        },
        "outputId": "8a8c89fb-28ac-4af7-d425-df4957c830b6"
      },
      "source": [
        "print(history.history.keys())"
      ],
      "execution_count": 43,
      "outputs": [
        {
          "output_type": "stream",
          "text": [
            "dict_keys(['loss', 'accuracy', 'val_loss', 'val_accuracy'])\n"
          ],
          "name": "stdout"
        }
      ]
    },
    {
      "cell_type": "code",
      "metadata": {
        "id": "A8LiHBIePZzm",
        "colab": {
          "base_uri": "https://localhost:8080/",
          "height": 545
        },
        "outputId": "80f63dcc-a6ea-4264-cb37-838b40892312"
      },
      "source": [
        "acc = history.history['accuracy']\n",
        "val_acc = history.history['val_accuracy']\n",
        "loss = history.history['loss']\n",
        "val_loss = history.history['val_loss']\n",
        "epochs = range(1, len(acc) + 1)\n",
        "plt.plot(epochs, acc, 'bo', label='Training acc')\n",
        "plt.plot(epochs, val_acc, 'r', label='Validation acc')\n",
        "plt.title('Training and validation accuracy')\n",
        "plt.legend()\n",
        "plt.figure()\n",
        "plt.plot(epochs, loss, 'bo', label='Training loss')\n",
        "plt.plot(epochs, val_loss, 'r', label='Validation loss')\n",
        "plt.title('Training and validation loss')\n",
        "plt.legend()\n",
        "plt.show()\n"
      ],
      "execution_count": 44,
      "outputs": [
        {
          "output_type": "display_data",
          "data": {
            "image/png": "[encoded data removed]",
            "text/plain": [
              "<Figure size 432x288 with 1 Axes>"
            ]
          },
          "metadata": {
            "tags": [],
            "needs_background": "light"
          }
        },
        {
          "output_type": "display_data",
          "data": {
            "image/png": "[encoded data removed]",
            "text/plain": [
              "<Figure size 432x288 with 1 Axes>"
            ]
          },
          "metadata": {
            "tags": [],
            "needs_background": "light"
          }
        }
      ]
    },
    {
      "cell_type": "code",
      "metadata": {
        "id": "BY5xKW5hOpoC"
      },
      "source": [
        "for layer in base_model.layers:\r\n",
        "   layer.trainable = False"
      ],
      "execution_count": 46,
      "outputs": []
    },
    {
      "cell_type": "code",
      "metadata": {
        "id": "3AZPIx-AqRWA"
      },
      "source": [
        "\r\n",
        "\r\n",
        "model.compile(optimizer='adam', loss=[focal_loss], metrics=['accuracy'])"
      ],
      "execution_count": 47,
      "outputs": []
    },
    {
      "cell_type": "code",
      "metadata": {
        "colab": {
          "base_uri": "https://localhost:8080/"
        },
        "id": "y-gY9fVsqSEC",
        "outputId": "386267d4-4dfe-4761-8fa4-edac66df05be"
      },
      "source": [
        "history=model.fit_generator(generator=train_generator,\r\n",
        "                    steps_per_epoch=STEP_SIZE_TRAIN,\r\n",
        "                    validation_data=valid_generator,\r\n",
        "                    validation_steps=STEP_SIZE_VALID,\r\n",
        "                    epochs=7\r\n",
        ")"
      ],
      "execution_count": 48,
      "outputs": [
        {
          "output_type": "stream",
          "text": [
            "Epoch 1/7\n",
            "139/139 [==============================] - 167s 1s/step - loss: 1.0971 - accuracy: 0.8481 - val_loss: 2.0886 - val_accuracy: 0.7400\n",
            "Epoch 2/7\n",
            "139/139 [==============================] - 169s 1s/step - loss: 1.0521 - accuracy: 0.8540 - val_loss: 2.1574 - val_accuracy: 0.7225\n",
            "Epoch 3/7\n",
            "139/139 [==============================] - 169s 1s/step - loss: 1.0829 - accuracy: 0.8436 - val_loss: 2.1336 - val_accuracy: 0.7350\n",
            "Epoch 4/7\n",
            "139/139 [==============================] - 170s 1s/step - loss: 1.0169 - accuracy: 0.8585 - val_loss: 2.1382 - val_accuracy: 0.7150\n",
            "Epoch 5/7\n",
            "139/139 [==============================] - 172s 1s/step - loss: 1.0146 - accuracy: 0.8684 - val_loss: 2.2910 - val_accuracy: 0.7275\n",
            "Epoch 6/7\n",
            "139/139 [==============================] - 173s 1s/step - loss: 1.0077 - accuracy: 0.8707 - val_loss: 1.9256 - val_accuracy: 0.7525\n",
            "Epoch 7/7\n",
            "139/139 [==============================] - 172s 1s/step - loss: 1.0029 - accuracy: 0.8662 - val_loss: 2.0955 - val_accuracy: 0.7400\n"
          ],
          "name": "stdout"
        }
      ]
    },
    {
      "cell_type": "code",
      "metadata": {
        "id": "YXI6Ml-JqV3x"
      },
      "source": [
        "model.save(\"mymodel3_r_f_3class.h5\")\r\n",
        "!mv \"/content/mymodel3_r_f_3class.h5\" \"/content/drive/My Drive/open_src_data/cross_valid/mymodel3_r_f_3class_overtrain_for_accu.h5\""
      ],
      "execution_count": 50,
      "outputs": []
    }
  ]
}